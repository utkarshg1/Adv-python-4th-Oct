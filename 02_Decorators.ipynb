{
 "cells": [
  {
   "cell_type": "markdown",
   "id": "601a06da",
   "metadata": {},
   "source": [
    "# Decorators\n",
    "Input(Any function) -> output is modified function (Wrapper)"
   ]
  },
  {
   "cell_type": "code",
   "execution_count": 1,
   "id": "2d30036b",
   "metadata": {},
   "outputs": [],
   "source": [
    "# Ignore non harmful warnings\n",
    "from warnings import filterwarnings\n",
    "filterwarnings(\"ignore\")"
   ]
  },
  {
   "cell_type": "markdown",
   "id": "6da47414",
   "metadata": {},
   "source": [
    "# Write a decorator function to welcome and thank the use"
   ]
  },
  {
   "cell_type": "code",
   "execution_count": 9,
   "id": "2c87d6e8",
   "metadata": {},
   "outputs": [],
   "source": [
    "def welcome(func):\n",
    "    def wrapper(*args, **kwargs):\n",
    "        print(\"Welcome User!\")\n",
    "        res = func(*args, **kwargs)\n",
    "        print(f\"Results : {res}\")\n",
    "        print(\"Thank you\")\n",
    "        return res\n",
    "    return wrapper"
   ]
  },
  {
   "cell_type": "code",
   "execution_count": 10,
   "id": "16247d1f",
   "metadata": {},
   "outputs": [],
   "source": [
    "# Simple interest\n",
    "@welcome\n",
    "def simple_interst(p, n, r):\n",
    "    i = (p * n * r) / 100\n",
    "    a = p + i\n",
    "    return i, a"
   ]
  },
  {
   "cell_type": "code",
   "execution_count": 11,
   "id": "8a56cdfc",
   "metadata": {},
   "outputs": [
    {
     "name": "stdout",
     "output_type": "stream",
     "text": [
      "Welcome User!\n",
      "Results : (17750.0, 67750.0)\n",
      "Thank you\n"
     ]
    }
   ],
   "source": [
    "i1, a1 = simple_interst(p=50000, n=5, r=7.1)"
   ]
  },
  {
   "cell_type": "code",
   "execution_count": 12,
   "id": "d6f8abd0",
   "metadata": {},
   "outputs": [
    {
     "data": {
      "text/plain": [
       "17750.0"
      ]
     },
     "execution_count": 12,
     "metadata": {},
     "output_type": "execute_result"
    }
   ],
   "source": [
    "i1"
   ]
  },
  {
   "cell_type": "code",
   "execution_count": 13,
   "id": "5f8146ea",
   "metadata": {},
   "outputs": [
    {
     "data": {
      "text/plain": [
       "67750.0"
      ]
     },
     "execution_count": 13,
     "metadata": {},
     "output_type": "execute_result"
    }
   ],
   "source": [
    "a1"
   ]
  },
  {
   "cell_type": "code",
   "execution_count": 14,
   "id": "8e583dcd",
   "metadata": {},
   "outputs": [
    {
     "name": "stdout",
     "output_type": "stream",
     "text": [
      "Welcome User!\n",
      "Results : (33200.00000000001, 113200.0)\n",
      "Thank you\n"
     ]
    }
   ],
   "source": [
    "i2, a2 = simple_interst(p=80_000, n=5, r=8.3)"
   ]
  },
  {
   "cell_type": "code",
   "execution_count": 15,
   "id": "1b84ef90",
   "metadata": {},
   "outputs": [
    {
     "data": {
      "text/plain": [
       "33200.00000000001"
      ]
     },
     "execution_count": 15,
     "metadata": {},
     "output_type": "execute_result"
    }
   ],
   "source": [
    "i2"
   ]
  },
  {
   "cell_type": "code",
   "execution_count": 16,
   "id": "cc817322",
   "metadata": {},
   "outputs": [
    {
     "data": {
      "text/plain": [
       "113200.0"
      ]
     },
     "execution_count": 16,
     "metadata": {},
     "output_type": "execute_result"
    }
   ],
   "source": [
    "a2"
   ]
  },
  {
   "cell_type": "code",
   "execution_count": 17,
   "id": "f4d8d907",
   "metadata": {},
   "outputs": [],
   "source": [
    "import math"
   ]
  },
  {
   "cell_type": "code",
   "execution_count": 19,
   "id": "a18120ac",
   "metadata": {},
   "outputs": [],
   "source": [
    "@welcome\n",
    "def hypotenuse(a, b):\n",
    "    return math.sqrt(a**2 + b**2)"
   ]
  },
  {
   "cell_type": "code",
   "execution_count": 20,
   "id": "362ffe70",
   "metadata": {},
   "outputs": [
    {
     "name": "stdout",
     "output_type": "stream",
     "text": [
      "Welcome User!\n",
      "Results : 5.830951894845301\n",
      "Thank you\n"
     ]
    }
   ],
   "source": [
    "h1 = hypotenuse(a=3, b=5)"
   ]
  },
  {
   "cell_type": "code",
   "execution_count": 21,
   "id": "a3c0a518",
   "metadata": {},
   "outputs": [
    {
     "data": {
      "text/plain": [
       "5.830951894845301"
      ]
     },
     "execution_count": 21,
     "metadata": {},
     "output_type": "execute_result"
    }
   ],
   "source": [
    "h1"
   ]
  },
  {
   "cell_type": "code",
   "execution_count": 22,
   "id": "1e2a38f7",
   "metadata": {},
   "outputs": [
    {
     "name": "stdout",
     "output_type": "stream",
     "text": [
      "Welcome User!\n",
      "Results : 17.69180601295413\n",
      "Thank you\n"
     ]
    }
   ],
   "source": [
    "h2 = hypotenuse(a=12, b=13)"
   ]
  },
  {
   "cell_type": "code",
   "execution_count": 23,
   "id": "6c86e61c",
   "metadata": {},
   "outputs": [
    {
     "name": "stdout",
     "output_type": "stream",
     "text": [
      "17.69180601295413\n"
     ]
    }
   ],
   "source": [
    "print(h2)"
   ]
  },
  {
   "cell_type": "code",
   "execution_count": null,
   "id": "bbe9e2ad",
   "metadata": {},
   "outputs": [],
   "source": []
  }
 ],
 "metadata": {
  "kernelspec": {
   "display_name": "Adv-python-4th-Oct",
   "language": "python",
   "name": "python3"
  },
  "language_info": {
   "codemirror_mode": {
    "name": "ipython",
    "version": 3
   },
   "file_extension": ".py",
   "mimetype": "text/x-python",
   "name": "python",
   "nbconvert_exporter": "python",
   "pygments_lexer": "ipython3",
   "version": "3.13.5"
  }
 },
 "nbformat": 4,
 "nbformat_minor": 5
}

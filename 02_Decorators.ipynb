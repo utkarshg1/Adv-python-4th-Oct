{
 "cells": [
  {
   "cell_type": "markdown",
   "id": "601a06da",
   "metadata": {},
   "source": [
    "# Decorators\n",
    "Input(Any function) -> output is modified function (Wrapper)"
   ]
  },
  {
   "cell_type": "code",
   "execution_count": 1,
   "id": "2d30036b",
   "metadata": {},
   "outputs": [],
   "source": [
    "# Ignore non harmful warnings\n",
    "from warnings import filterwarnings\n",
    "filterwarnings(\"ignore\")"
   ]
  },
  {
   "cell_type": "markdown",
   "id": "6da47414",
   "metadata": {},
   "source": [
    "# Write a decorator function to welcome and thank the use"
   ]
  },
  {
   "cell_type": "code",
   "execution_count": 9,
   "id": "2c87d6e8",
   "metadata": {},
   "outputs": [],
   "source": [
    "def welcome(func):\n",
    "    def wrapper(*args, **kwargs):\n",
    "        print(\"Welcome User!\")\n",
    "        res = func(*args, **kwargs)\n",
    "        print(f\"Results : {res}\")\n",
    "        print(\"Thank you\")\n",
    "        return res\n",
    "    return wrapper"
   ]
  },
  {
   "cell_type": "code",
   "execution_count": 10,
   "id": "16247d1f",
   "metadata": {},
   "outputs": [],
   "source": [
    "# Simple interest\n",
    "@welcome\n",
    "def simple_interst(p, n, r):\n",
    "    i = (p * n * r) / 100\n",
    "    a = p + i\n",
    "    return i, a"
   ]
  },
  {
   "cell_type": "code",
   "execution_count": 11,
   "id": "8a56cdfc",
   "metadata": {},
   "outputs": [
    {
     "name": "stdout",
     "output_type": "stream",
     "text": [
      "Welcome User!\n",
      "Results : (17750.0, 67750.0)\n",
      "Thank you\n"
     ]
    }
   ],
   "source": [
    "i1, a1 = simple_interst(p=50000, n=5, r=7.1)"
   ]
  },
  {
   "cell_type": "code",
   "execution_count": 12,
   "id": "d6f8abd0",
   "metadata": {},
   "outputs": [
    {
     "data": {
      "text/plain": [
       "17750.0"
      ]
     },
     "execution_count": 12,
     "metadata": {},
     "output_type": "execute_result"
    }
   ],
   "source": [
    "i1"
   ]
  },
  {
   "cell_type": "code",
   "execution_count": 13,
   "id": "5f8146ea",
   "metadata": {},
   "outputs": [
    {
     "data": {
      "text/plain": [
       "67750.0"
      ]
     },
     "execution_count": 13,
     "metadata": {},
     "output_type": "execute_result"
    }
   ],
   "source": [
    "a1"
   ]
  },
  {
   "cell_type": "code",
   "execution_count": 14,
   "id": "8e583dcd",
   "metadata": {},
   "outputs": [
    {
     "name": "stdout",
     "output_type": "stream",
     "text": [
      "Welcome User!\n",
      "Results : (33200.00000000001, 113200.0)\n",
      "Thank you\n"
     ]
    }
   ],
   "source": [
    "i2, a2 = simple_interst(p=80_000, n=5, r=8.3)"
   ]
  },
  {
   "cell_type": "code",
   "execution_count": 15,
   "id": "1b84ef90",
   "metadata": {},
   "outputs": [
    {
     "data": {
      "text/plain": [
       "33200.00000000001"
      ]
     },
     "execution_count": 15,
     "metadata": {},
     "output_type": "execute_result"
    }
   ],
   "source": [
    "i2"
   ]
  },
  {
   "cell_type": "code",
   "execution_count": 16,
   "id": "cc817322",
   "metadata": {},
   "outputs": [
    {
     "data": {
      "text/plain": [
       "113200.0"
      ]
     },
     "execution_count": 16,
     "metadata": {},
     "output_type": "execute_result"
    }
   ],
   "source": [
    "a2"
   ]
  },
  {
   "cell_type": "code",
   "execution_count": 17,
   "id": "f4d8d907",
   "metadata": {},
   "outputs": [],
   "source": [
    "import math"
   ]
  },
  {
   "cell_type": "code",
   "execution_count": 19,
   "id": "a18120ac",
   "metadata": {},
   "outputs": [],
   "source": [
    "@welcome\n",
    "def hypotenuse(a, b):\n",
    "    return math.sqrt(a**2 + b**2)"
   ]
  },
  {
   "cell_type": "code",
   "execution_count": 20,
   "id": "362ffe70",
   "metadata": {},
   "outputs": [
    {
     "name": "stdout",
     "output_type": "stream",
     "text": [
      "Welcome User!\n",
      "Results : 5.830951894845301\n",
      "Thank you\n"
     ]
    }
   ],
   "source": [
    "h1 = hypotenuse(a=3, b=5)"
   ]
  },
  {
   "cell_type": "code",
   "execution_count": 21,
   "id": "a3c0a518",
   "metadata": {},
   "outputs": [
    {
     "data": {
      "text/plain": [
       "5.830951894845301"
      ]
     },
     "execution_count": 21,
     "metadata": {},
     "output_type": "execute_result"
    }
   ],
   "source": [
    "h1"
   ]
  },
  {
   "cell_type": "code",
   "execution_count": 22,
   "id": "1e2a38f7",
   "metadata": {},
   "outputs": [
    {
     "name": "stdout",
     "output_type": "stream",
     "text": [
      "Welcome User!\n",
      "Results : 17.69180601295413\n",
      "Thank you\n"
     ]
    }
   ],
   "source": [
    "h2 = hypotenuse(a=12, b=13)"
   ]
  },
  {
   "cell_type": "code",
   "execution_count": 23,
   "id": "6c86e61c",
   "metadata": {},
   "outputs": [
    {
     "name": "stdout",
     "output_type": "stream",
     "text": [
      "17.69180601295413\n"
     ]
    }
   ],
   "source": [
    "print(h2)"
   ]
  },
  {
   "cell_type": "markdown",
   "id": "1c5c8b5c",
   "metadata": {},
   "source": [
    "# Write a decorator function to check execution time"
   ]
  },
  {
   "cell_type": "code",
   "execution_count": 24,
   "id": "bbe9e2ad",
   "metadata": {},
   "outputs": [],
   "source": [
    "import time"
   ]
  },
  {
   "cell_type": "code",
   "execution_count": 27,
   "id": "41df4a15",
   "metadata": {},
   "outputs": [
    {
     "name": "stdout",
     "output_type": "stream",
     "text": [
      "Hello\n",
      "World\n",
      "Elapsed Time : 5.00 sec\n"
     ]
    }
   ],
   "source": [
    "start = time.perf_counter()\n",
    "time.sleep(2)\n",
    "print(\"Hello\")\n",
    "time.sleep(3)\n",
    "print(\"World\")\n",
    "stop = time.perf_counter()\n",
    "elasped_time = stop - start\n",
    "print(f\"Elapsed Time : {elasped_time:.2f} sec\")"
   ]
  },
  {
   "cell_type": "code",
   "execution_count": 28,
   "id": "461d3013",
   "metadata": {},
   "outputs": [],
   "source": [
    "def time_decorator(func):\n",
    "    def wrapper(*args, **kwargs):\n",
    "        start = time.perf_counter()\n",
    "        res = func(*args, **kwargs)\n",
    "        print(f\"Results : {res}\")\n",
    "        stop = time.perf_counter()\n",
    "        elapsed_time = stop - start\n",
    "        print(f\"Elapsed time : {elapsed_time:.2f} sec\")\n",
    "        return res\n",
    "    return wrapper"
   ]
  },
  {
   "cell_type": "code",
   "execution_count": 30,
   "id": "b9fbb7cc",
   "metadata": {},
   "outputs": [],
   "source": [
    "@time_decorator\n",
    "def square(n: float):\n",
    "    time.sleep(3)\n",
    "    return n**2"
   ]
  },
  {
   "cell_type": "code",
   "execution_count": 31,
   "id": "9f04bbed",
   "metadata": {},
   "outputs": [
    {
     "name": "stdout",
     "output_type": "stream",
     "text": [
      "Results : 156.25\n",
      "Elapsed time : 3.00 sec\n"
     ]
    }
   ],
   "source": [
    "s1 = square(12.5)"
   ]
  },
  {
   "cell_type": "code",
   "execution_count": 32,
   "id": "fdcf5115",
   "metadata": {},
   "outputs": [
    {
     "name": "stdout",
     "output_type": "stream",
     "text": [
      "Results : 640.09\n",
      "Elapsed time : 3.00 sec\n"
     ]
    }
   ],
   "source": [
    "s2 = square(25.3)"
   ]
  },
  {
   "cell_type": "code",
   "execution_count": 35,
   "id": "57c634c2",
   "metadata": {},
   "outputs": [],
   "source": [
    "@time_decorator\n",
    "def square_multiple(nums: list[float]) -> list[float]:\n",
    "    s = []\n",
    "    for i in nums:\n",
    "        time.sleep(1)\n",
    "        print(f\"Square of number {i} is {i**2}\")\n",
    "        s.append(i**2)\n",
    "    return s"
   ]
  },
  {
   "cell_type": "code",
   "execution_count": 36,
   "id": "b3a6c2e0",
   "metadata": {},
   "outputs": [
    {
     "name": "stdout",
     "output_type": "stream",
     "text": [
      "Square of number 12 is 144\n",
      "Square of number 13 is 169\n",
      "Square of number 15 is 225\n",
      "Square of number 25 is 625\n",
      "Square of number 30 is 900\n",
      "Square of number 11 is 121\n",
      "Results : [144, 169, 225, 625, 900, 121]\n",
      "Elapsed time : 6.05 sec\n"
     ]
    }
   ],
   "source": [
    "s1 = square_multiple(nums = [12, 13, 15, 25, 30, 11])"
   ]
  },
  {
   "cell_type": "code",
   "execution_count": 37,
   "id": "7ceeb5ca",
   "metadata": {},
   "outputs": [
    {
     "name": "stdout",
     "output_type": "stream",
     "text": [
      "Square of number 20 is 400\n",
      "Square of number 21 is 441\n",
      "Square of number 22 is 484\n",
      "Square of number 23 is 529\n",
      "Square of number 24 is 576\n",
      "Square of number 25 is 625\n",
      "Square of number 26 is 676\n",
      "Square of number 27 is 729\n",
      "Square of number 28 is 784\n",
      "Square of number 29 is 841\n",
      "Square of number 30 is 900\n",
      "Results : [400, 441, 484, 529, 576, 625, 676, 729, 784, 841, 900]\n",
      "Elapsed time : 11.07 sec\n"
     ]
    }
   ],
   "source": [
    "s2 = square_multiple(nums = [20, 21, 22, 23, 24, 25, 26, 27, 28, 29, 30])"
   ]
  },
  {
   "cell_type": "code",
   "execution_count": 38,
   "id": "491243e6",
   "metadata": {},
   "outputs": [
    {
     "data": {
      "text/plain": [
       "[144, 169, 225, 625, 900, 121]"
      ]
     },
     "execution_count": 38,
     "metadata": {},
     "output_type": "execute_result"
    }
   ],
   "source": [
    "s1"
   ]
  },
  {
   "cell_type": "code",
   "execution_count": 39,
   "id": "ef39a152",
   "metadata": {},
   "outputs": [
    {
     "data": {
      "text/plain": [
       "[400, 441, 484, 529, 576, 625, 676, 729, 784, 841, 900]"
      ]
     },
     "execution_count": 39,
     "metadata": {},
     "output_type": "execute_result"
    }
   ],
   "source": [
    "s2"
   ]
  },
  {
   "cell_type": "markdown",
   "id": "f82900dc",
   "metadata": {},
   "source": [
    "# Download the file from internet"
   ]
  },
  {
   "cell_type": "code",
   "execution_count": 40,
   "id": "93dbb67d",
   "metadata": {},
   "outputs": [
    {
     "name": "stdout",
     "output_type": "stream",
     "text": [
      "https://raw.githubusercontent.com/utkarshg1/mlproject_regression/refs/heads/main/artifacts/data.csv\n"
     ]
    }
   ],
   "source": [
    "url = \"https://raw.githubusercontent.com/utkarshg1/mlproject_regression/refs/heads/main/artifacts/data.csv\"\n",
    "print(url)"
   ]
  },
  {
   "cell_type": "code",
   "execution_count": 41,
   "id": "672f8d48",
   "metadata": {},
   "outputs": [
    {
     "data": {
      "text/plain": [
       "['https:',\n",
       " '',\n",
       " 'raw.githubusercontent.com',\n",
       " 'utkarshg1',\n",
       " 'mlproject_regression',\n",
       " 'refs',\n",
       " 'heads',\n",
       " 'main',\n",
       " 'artifacts',\n",
       " 'data.csv']"
      ]
     },
     "execution_count": 41,
     "metadata": {},
     "output_type": "execute_result"
    }
   ],
   "source": [
    "url.split(\"/\")"
   ]
  },
  {
   "cell_type": "code",
   "execution_count": 42,
   "id": "d8971e38",
   "metadata": {},
   "outputs": [
    {
     "data": {
      "text/plain": [
       "'data.csv'"
      ]
     },
     "execution_count": 42,
     "metadata": {},
     "output_type": "execute_result"
    }
   ],
   "source": [
    "url.split(\"/\")[-1]"
   ]
  },
  {
   "cell_type": "code",
   "execution_count": 43,
   "id": "23b91b3f",
   "metadata": {},
   "outputs": [],
   "source": [
    "from urllib.request import urlretrieve\n",
    "\n",
    "@time_decorator\n",
    "def download_files(url: str):\n",
    "    file_name = url.split(\"/\")[-1]\n",
    "    print(f\"Downloading {file_name} ...\")\n",
    "    urlretrieve(url, file_name)\n",
    "    print(f\"{file_name} download complete\")"
   ]
  },
  {
   "cell_type": "code",
   "execution_count": 44,
   "id": "cb07c8f9",
   "metadata": {},
   "outputs": [
    {
     "data": {
      "text/plain": [
       "'https://raw.githubusercontent.com/utkarshg1/mlproject_regression/refs/heads/main/artifacts/data.csv'"
      ]
     },
     "execution_count": 44,
     "metadata": {},
     "output_type": "execute_result"
    }
   ],
   "source": [
    "url"
   ]
  },
  {
   "cell_type": "code",
   "execution_count": 46,
   "id": "f4dee7e7",
   "metadata": {},
   "outputs": [
    {
     "name": "stdout",
     "output_type": "stream",
     "text": [
      "Downloading data.csv ...\n",
      "data.csv download complete\n",
      "Results : None\n",
      "Elapsed time : 0.77 sec\n"
     ]
    }
   ],
   "source": [
    "download_files(url)"
   ]
  },
  {
   "cell_type": "code",
   "execution_count": 47,
   "id": "a6184a05",
   "metadata": {},
   "outputs": [
    {
     "data": {
      "text/html": [
       "<div>\n",
       "<style scoped>\n",
       "    .dataframe tbody tr th:only-of-type {\n",
       "        vertical-align: middle;\n",
       "    }\n",
       "\n",
       "    .dataframe tbody tr th {\n",
       "        vertical-align: top;\n",
       "    }\n",
       "\n",
       "    .dataframe thead th {\n",
       "        text-align: right;\n",
       "    }\n",
       "</style>\n",
       "<table border=\"1\" class=\"dataframe\">\n",
       "  <thead>\n",
       "    <tr style=\"text-align: right;\">\n",
       "      <th></th>\n",
       "      <th>id</th>\n",
       "      <th>carat</th>\n",
       "      <th>cut</th>\n",
       "      <th>color</th>\n",
       "      <th>clarity</th>\n",
       "      <th>depth</th>\n",
       "      <th>table</th>\n",
       "      <th>x</th>\n",
       "      <th>y</th>\n",
       "      <th>z</th>\n",
       "      <th>price</th>\n",
       "    </tr>\n",
       "  </thead>\n",
       "  <tbody>\n",
       "    <tr>\n",
       "      <th>0</th>\n",
       "      <td>0</td>\n",
       "      <td>1.52</td>\n",
       "      <td>Premium</td>\n",
       "      <td>F</td>\n",
       "      <td>VS2</td>\n",
       "      <td>62.2</td>\n",
       "      <td>58.0</td>\n",
       "      <td>7.27</td>\n",
       "      <td>7.33</td>\n",
       "      <td>4.55</td>\n",
       "      <td>13619</td>\n",
       "    </tr>\n",
       "    <tr>\n",
       "      <th>1</th>\n",
       "      <td>1</td>\n",
       "      <td>2.03</td>\n",
       "      <td>Very Good</td>\n",
       "      <td>J</td>\n",
       "      <td>SI2</td>\n",
       "      <td>62.0</td>\n",
       "      <td>58.0</td>\n",
       "      <td>8.06</td>\n",
       "      <td>8.12</td>\n",
       "      <td>5.05</td>\n",
       "      <td>13387</td>\n",
       "    </tr>\n",
       "    <tr>\n",
       "      <th>2</th>\n",
       "      <td>2</td>\n",
       "      <td>0.70</td>\n",
       "      <td>Ideal</td>\n",
       "      <td>G</td>\n",
       "      <td>VS1</td>\n",
       "      <td>61.2</td>\n",
       "      <td>57.0</td>\n",
       "      <td>5.69</td>\n",
       "      <td>5.73</td>\n",
       "      <td>3.50</td>\n",
       "      <td>2772</td>\n",
       "    </tr>\n",
       "    <tr>\n",
       "      <th>3</th>\n",
       "      <td>3</td>\n",
       "      <td>0.32</td>\n",
       "      <td>Ideal</td>\n",
       "      <td>G</td>\n",
       "      <td>VS1</td>\n",
       "      <td>61.6</td>\n",
       "      <td>56.0</td>\n",
       "      <td>4.38</td>\n",
       "      <td>4.41</td>\n",
       "      <td>2.71</td>\n",
       "      <td>666</td>\n",
       "    </tr>\n",
       "    <tr>\n",
       "      <th>4</th>\n",
       "      <td>4</td>\n",
       "      <td>1.70</td>\n",
       "      <td>Premium</td>\n",
       "      <td>G</td>\n",
       "      <td>VS2</td>\n",
       "      <td>62.6</td>\n",
       "      <td>59.0</td>\n",
       "      <td>7.65</td>\n",
       "      <td>7.61</td>\n",
       "      <td>4.77</td>\n",
       "      <td>14453</td>\n",
       "    </tr>\n",
       "  </tbody>\n",
       "</table>\n",
       "</div>"
      ],
      "text/plain": [
       "   id  carat        cut color clarity  depth  table     x     y     z  price\n",
       "0   0   1.52    Premium     F     VS2   62.2   58.0  7.27  7.33  4.55  13619\n",
       "1   1   2.03  Very Good     J     SI2   62.0   58.0  8.06  8.12  5.05  13387\n",
       "2   2   0.70      Ideal     G     VS1   61.2   57.0  5.69  5.73  3.50   2772\n",
       "3   3   0.32      Ideal     G     VS1   61.6   56.0  4.38  4.41  2.71    666\n",
       "4   4   1.70    Premium     G     VS2   62.6   59.0  7.65  7.61  4.77  14453"
      ]
     },
     "execution_count": 47,
     "metadata": {},
     "output_type": "execute_result"
    }
   ],
   "source": [
    "import pandas as pd\n",
    "df = pd.read_csv(\"data.csv\")\n",
    "df.head()"
   ]
  },
  {
   "cell_type": "code",
   "execution_count": 48,
   "id": "f333a89c",
   "metadata": {},
   "outputs": [
    {
     "data": {
      "text/plain": [
       "(193573, 11)"
      ]
     },
     "execution_count": 48,
     "metadata": {},
     "output_type": "execute_result"
    }
   ],
   "source": [
    "df.shape"
   ]
  },
  {
   "cell_type": "code",
   "execution_count": 49,
   "id": "7700c8fd",
   "metadata": {},
   "outputs": [
    {
     "name": "stdout",
     "output_type": "stream",
     "text": [
      "<class 'pandas.core.frame.DataFrame'>\n",
      "RangeIndex: 193573 entries, 0 to 193572\n",
      "Data columns (total 11 columns):\n",
      " #   Column   Non-Null Count   Dtype  \n",
      "---  ------   --------------   -----  \n",
      " 0   id       193573 non-null  int64  \n",
      " 1   carat    193573 non-null  float64\n",
      " 2   cut      193573 non-null  object \n",
      " 3   color    193573 non-null  object \n",
      " 4   clarity  193573 non-null  object \n",
      " 5   depth    193573 non-null  float64\n",
      " 6   table    193573 non-null  float64\n",
      " 7   x        193573 non-null  float64\n",
      " 8   y        193573 non-null  float64\n",
      " 9   z        193573 non-null  float64\n",
      " 10  price    193573 non-null  int64  \n",
      "dtypes: float64(6), int64(2), object(3)\n",
      "memory usage: 16.2+ MB\n"
     ]
    }
   ],
   "source": [
    "df.info()"
   ]
  },
  {
   "cell_type": "code",
   "execution_count": null,
   "id": "e32b7147",
   "metadata": {},
   "outputs": [],
   "source": []
  }
 ],
 "metadata": {
  "kernelspec": {
   "display_name": "Adv-python-4th-Oct",
   "language": "python",
   "name": "python3"
  },
  "language_info": {
   "codemirror_mode": {
    "name": "ipython",
    "version": 3
   },
   "file_extension": ".py",
   "mimetype": "text/x-python",
   "name": "python",
   "nbconvert_exporter": "python",
   "pygments_lexer": "ipython3",
   "version": "3.13.5"
  }
 },
 "nbformat": 4,
 "nbformat_minor": 5
}

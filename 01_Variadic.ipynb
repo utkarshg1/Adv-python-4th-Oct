{
 "cells": [
  {
   "cell_type": "markdown",
   "id": "533e05c3",
   "metadata": {},
   "source": [
    "# Variadic Functions\n",
    "1. Excecute the cell -> Shift + Enter\n",
    "2. Convert cell to markdown -> esc, m\n",
    "3. Convert cell to code -> esc, y"
   ]
  },
  {
   "cell_type": "code",
   "execution_count": 1,
   "id": "26a958d0",
   "metadata": {},
   "outputs": [],
   "source": [
    "# Ignore non harmful warnings\n",
    "from warnings import filterwarnings\n",
    "filterwarnings(\"ignore\")"
   ]
  },
  {
   "cell_type": "code",
   "execution_count": 2,
   "id": "cc450c27",
   "metadata": {},
   "outputs": [],
   "source": [
    "def add(a: float, b: float) -> float:\n",
    "    \"\"\"\n",
    "    This function adds two floats\n",
    "    \"\"\"\n",
    "    c = a + b\n",
    "    return c"
   ]
  },
  {
   "cell_type": "markdown",
   "id": "a9f991b8",
   "metadata": {},
   "source": [
    "# Understanding postional arguments and keyword arguments in python"
   ]
  },
  {
   "cell_type": "code",
   "execution_count": null,
   "id": "b3e2d945",
   "metadata": {},
   "outputs": [
    {
     "name": "stdout",
     "output_type": "stream",
     "text": [
      "7.300000000000001\n"
     ]
    }
   ],
   "source": [
    "# Positional arguments\n",
    "r1 = add(3.1, 4.2)\n",
    "print(r1)"
   ]
  },
  {
   "cell_type": "code",
   "execution_count": 6,
   "id": "47293ff6",
   "metadata": {},
   "outputs": [
    {
     "name": "stdout",
     "output_type": "stream",
     "text": [
      "34.5\n"
     ]
    }
   ],
   "source": [
    "# Keyword arguments\n",
    "r2 = add(a=23.0, b=11.5)\n",
    "print(r2)"
   ]
  },
  {
   "cell_type": "code",
   "execution_count": 7,
   "id": "34e13a16",
   "metadata": {},
   "outputs": [
    {
     "ename": "TypeError",
     "evalue": "add() takes 2 positional arguments but 3 were given",
     "output_type": "error",
     "traceback": [
      "\u001b[31m---------------------------------------------------------------------------\u001b[39m",
      "\u001b[31mTypeError\u001b[39m                                 Traceback (most recent call last)",
      "\u001b[36mCell\u001b[39m\u001b[36m \u001b[39m\u001b[32mIn[7]\u001b[39m\u001b[32m, line 1\u001b[39m\n\u001b[32m----> \u001b[39m\u001b[32m1\u001b[39m r3 = \u001b[43madd\u001b[49m\u001b[43m(\u001b[49m\u001b[32;43m3\u001b[39;49m\u001b[43m,\u001b[49m\u001b[43m \u001b[49m\u001b[32;43m4\u001b[39;49m\u001b[43m,\u001b[49m\u001b[43m \u001b[49m\u001b[32;43m5\u001b[39;49m\u001b[43m)\u001b[49m\n",
      "\u001b[31mTypeError\u001b[39m: add() takes 2 positional arguments but 3 were given"
     ]
    }
   ],
   "source": [
    "r3 = add(3, 4, 5)"
   ]
  },
  {
   "cell_type": "code",
   "execution_count": 8,
   "id": "c723621f",
   "metadata": {},
   "outputs": [
    {
     "ename": "TypeError",
     "evalue": "add() missing 1 required positional argument: 'b'",
     "output_type": "error",
     "traceback": [
      "\u001b[31m---------------------------------------------------------------------------\u001b[39m",
      "\u001b[31mTypeError\u001b[39m                                 Traceback (most recent call last)",
      "\u001b[36mCell\u001b[39m\u001b[36m \u001b[39m\u001b[32mIn[8]\u001b[39m\u001b[32m, line 1\u001b[39m\n\u001b[32m----> \u001b[39m\u001b[32m1\u001b[39m \u001b[43madd\u001b[49m\u001b[43m(\u001b[49m\u001b[32;43m2\u001b[39;49m\u001b[43m)\u001b[49m\n",
      "\u001b[31mTypeError\u001b[39m: add() missing 1 required positional argument: 'b'"
     ]
    }
   ],
   "source": [
    "add(2)"
   ]
  },
  {
   "cell_type": "markdown",
   "id": "28e60138",
   "metadata": {},
   "source": [
    "# Write a function to add any amount of numbers"
   ]
  },
  {
   "cell_type": "markdown",
   "id": "17a29bd7",
   "metadata": {},
   "source": [
    "# *args -> This will act like postional arguments which is considered as tuple inside python"
   ]
  },
  {
   "cell_type": "code",
   "execution_count": 9,
   "id": "b8e4df0c",
   "metadata": {},
   "outputs": [],
   "source": [
    "def func1(*args):\n",
    "    print(f\"Arguments : {args}\")\n",
    "    print(f\"Type : {type(args)}\")\n",
    "    for i in args:\n",
    "        print(i)"
   ]
  },
  {
   "cell_type": "code",
   "execution_count": 10,
   "id": "e3d0c267",
   "metadata": {},
   "outputs": [
    {
     "name": "stdout",
     "output_type": "stream",
     "text": [
      "Arguments : (1, 2)\n",
      "Type : <class 'tuple'>\n",
      "1\n",
      "2\n"
     ]
    }
   ],
   "source": [
    "func1(1, 2)"
   ]
  },
  {
   "cell_type": "code",
   "execution_count": 11,
   "id": "44d8a567",
   "metadata": {},
   "outputs": [
    {
     "name": "stdout",
     "output_type": "stream",
     "text": [
      "Arguments : (23, 11, 'Rahul', 'Raman', True)\n",
      "Type : <class 'tuple'>\n",
      "23\n",
      "11\n",
      "Rahul\n",
      "Raman\n",
      "True\n"
     ]
    }
   ],
   "source": [
    "func1(23, 11, \"Rahul\", \"Raman\", True)"
   ]
  },
  {
   "cell_type": "code",
   "execution_count": 15,
   "id": "3ebfc026",
   "metadata": {},
   "outputs": [
    {
     "name": "stdout",
     "output_type": "stream",
     "text": [
      "Arguments : ([3, 4, 5, 'Rahul', 'Example', False, 12, 13],)\n",
      "Type : <class 'tuple'>\n",
      "[3, 4, 5, 'Rahul', 'Example', False, 12, 13]\n"
     ]
    }
   ],
   "source": [
    "b = [3, 4, 5, \"Rahul\", \"Example\", False, 12, 13]\n",
    "func1(b)"
   ]
  },
  {
   "cell_type": "code",
   "execution_count": 16,
   "id": "af208070",
   "metadata": {},
   "outputs": [
    {
     "name": "stdout",
     "output_type": "stream",
     "text": [
      "Arguments : (3, 4, 5, 'Rahul', 'Example', False, 12, 13)\n",
      "Type : <class 'tuple'>\n",
      "3\n",
      "4\n",
      "5\n",
      "Rahul\n",
      "Example\n",
      "False\n",
      "12\n",
      "13\n"
     ]
    }
   ],
   "source": [
    "# How to unpack the list inside variadic function\n",
    "# After unpacking individual elements will be considerd as inputs\n",
    "b = [3, 4, 5, \"Rahul\", \"Example\", False, 12, 13]\n",
    "func1(*b)"
   ]
  },
  {
   "cell_type": "markdown",
   "id": "9165a933",
   "metadata": {},
   "source": [
    "# add any amount of numbers"
   ]
  },
  {
   "cell_type": "code",
   "execution_count": 17,
   "id": "191f4934",
   "metadata": {},
   "outputs": [],
   "source": [
    "def add_multiple(*args):\n",
    "    # intialize sum with 0\n",
    "    s = 0\n",
    "    # Apply for loop on args\n",
    "    for i in args:\n",
    "        s = s + i\n",
    "    # Return the value of s\n",
    "    return s"
   ]
  },
  {
   "cell_type": "code",
   "execution_count": 18,
   "id": "4cbd1e31",
   "metadata": {},
   "outputs": [
    {
     "data": {
      "text/plain": [
       "7"
      ]
     },
     "execution_count": 18,
     "metadata": {},
     "output_type": "execute_result"
    }
   ],
   "source": [
    "add_multiple(3, 4)"
   ]
  },
  {
   "cell_type": "code",
   "execution_count": 19,
   "id": "d6236ab8",
   "metadata": {},
   "outputs": [
    {
     "data": {
      "text/plain": [
       "15"
      ]
     },
     "execution_count": 19,
     "metadata": {},
     "output_type": "execute_result"
    }
   ],
   "source": [
    "add_multiple(4, 5, 6)"
   ]
  },
  {
   "cell_type": "code",
   "execution_count": 20,
   "id": "da932e9f",
   "metadata": {},
   "outputs": [
    {
     "data": {
      "text/plain": [
       "320"
      ]
     },
     "execution_count": 20,
     "metadata": {},
     "output_type": "execute_result"
    }
   ],
   "source": [
    "add_multiple(34, 12, 13, 11, 25, 100, 125)"
   ]
  },
  {
   "cell_type": "code",
   "execution_count": 21,
   "id": "434b991f",
   "metadata": {},
   "outputs": [
    {
     "name": "stdout",
     "output_type": "stream",
     "text": [
      "[1, 2, 3, 4, 5, 6, 7, 8, 9, 10, 11, 12, 13, 14, 15, 16, 17, 18, 19, 20, 21, 22, 23, 24, 25, 26, 27, 28, 29, 30, 31, 32, 33, 34, 35, 36, 37, 38, 39, 40, 41, 42, 43, 44, 45, 46, 47, 48, 49, 50, 51, 52, 53, 54, 55, 56, 57, 58, 59, 60, 61, 62, 63, 64, 65, 66, 67, 68, 69, 70, 71, 72, 73, 74, 75, 76, 77, 78, 79, 80, 81, 82, 83, 84, 85, 86, 87, 88, 89, 90, 91, 92, 93, 94, 95, 96, 97, 98, 99]\n"
     ]
    }
   ],
   "source": [
    "b = list(range(1, 100))\n",
    "print(b)"
   ]
  },
  {
   "cell_type": "code",
   "execution_count": 23,
   "id": "db85bd55",
   "metadata": {},
   "outputs": [
    {
     "data": {
      "text/plain": [
       "4950"
      ]
     },
     "execution_count": 23,
     "metadata": {},
     "output_type": "execute_result"
    }
   ],
   "source": [
    "# Unapck list and provide input\n",
    "add_multiple(*b)"
   ]
  },
  {
   "cell_type": "markdown",
   "id": "906e60c9",
   "metadata": {},
   "source": [
    "# Keyword arguments\n",
    "**kwargs - Act like a dictionary in python"
   ]
  },
  {
   "cell_type": "code",
   "execution_count": 24,
   "id": "6ae6e3a8",
   "metadata": {},
   "outputs": [],
   "source": [
    "def func2(**kwargs):\n",
    "    print(kwargs)\n",
    "    print(type(kwargs))\n",
    "    for key, value in kwargs.items():\n",
    "        print(f\"Key : {key}, Value : {value}\")"
   ]
  },
  {
   "cell_type": "code",
   "execution_count": 25,
   "id": "b76f6b7d",
   "metadata": {},
   "outputs": [
    {
     "name": "stdout",
     "output_type": "stream",
     "text": [
      "{'name': 'Rahul', 'age': 28}\n",
      "<class 'dict'>\n",
      "Key : name, Value : Rahul\n",
      "Key : age, Value : 28\n"
     ]
    }
   ],
   "source": [
    "func2(name=\"Rahul\", age=28)"
   ]
  },
  {
   "cell_type": "code",
   "execution_count": 26,
   "id": "bb830ed9",
   "metadata": {},
   "outputs": [
    {
     "name": "stdout",
     "output_type": "stream",
     "text": [
      "{'name': 'Aditi', 'age': 32, 'email': 'aditi@test.com'}\n",
      "<class 'dict'>\n",
      "Key : name, Value : Aditi\n",
      "Key : age, Value : 32\n",
      "Key : email, Value : aditi@test.com\n"
     ]
    }
   ],
   "source": [
    "func2(name=\"Aditi\", age=32, email=\"aditi@test.com\")"
   ]
  },
  {
   "cell_type": "code",
   "execution_count": 27,
   "id": "3031802e",
   "metadata": {},
   "outputs": [
    {
     "name": "stdout",
     "output_type": "stream",
     "text": [
      "{'name': 'Raman', 'age': 20, 'contact': 21321, 'sal': 35000}\n",
      "<class 'dict'>\n",
      "Key : name, Value : Raman\n",
      "Key : age, Value : 20\n",
      "Key : contact, Value : 21321\n",
      "Key : sal, Value : 35000\n"
     ]
    }
   ],
   "source": [
    "func2(name=\"Raman\", age=20, contact = 21321, sal=35000)"
   ]
  },
  {
   "cell_type": "markdown",
   "id": "02e96b9e",
   "metadata": {},
   "source": [
    "# I want to user information with some flexibility"
   ]
  },
  {
   "cell_type": "code",
   "execution_count": 34,
   "id": "1ee8839c",
   "metadata": {},
   "outputs": [],
   "source": [
    "def user_info(**kwargs):\n",
    "    user = {\n",
    "        \"name\": None,\n",
    "        \"age\": None,\n",
    "        \"email\": None\n",
    "    }\n",
    "    user.update(kwargs)\n",
    "    return user"
   ]
  },
  {
   "cell_type": "code",
   "execution_count": 35,
   "id": "16a5f69f",
   "metadata": {},
   "outputs": [
    {
     "name": "stdout",
     "output_type": "stream",
     "text": [
      "{'name': 'Rahul', 'age': 30, 'email': 'rahul@test.com'}\n"
     ]
    }
   ],
   "source": [
    "u1 = user_info(name=\"Rahul\", age=30, email=\"rahul@test.com\")\n",
    "print(u1)"
   ]
  },
  {
   "cell_type": "code",
   "execution_count": 36,
   "id": "a93c2b12",
   "metadata": {},
   "outputs": [
    {
     "name": "stdout",
     "output_type": "stream",
     "text": [
      "{'name': 'Aditi', 'age': 28, 'email': None}\n"
     ]
    }
   ],
   "source": [
    "u2 = user_info(name=\"Aditi\", age=28)\n",
    "print(u2)"
   ]
  },
  {
   "cell_type": "code",
   "execution_count": 37,
   "id": "1b1e5677",
   "metadata": {},
   "outputs": [],
   "source": [
    "u3 = user_info(\n",
    "    full_name=\"Utkarsh Gaikwad\", \n",
    "    age=23, \n",
    "    email=\"u@test.com\",\n",
    "    city = \"Pune\"\n",
    ")"
   ]
  },
  {
   "cell_type": "code",
   "execution_count": 38,
   "id": "691e98a5",
   "metadata": {},
   "outputs": [
    {
     "name": "stdout",
     "output_type": "stream",
     "text": [
      "{'name': None, 'age': 23, 'email': 'u@test.com', 'full_name': 'Utkarsh Gaikwad', 'city': 'Pune'}\n"
     ]
    }
   ],
   "source": [
    "print(u3)"
   ]
  },
  {
   "cell_type": "code",
   "execution_count": 39,
   "id": "4a4d10cd",
   "metadata": {},
   "outputs": [
    {
     "name": "stdout",
     "output_type": "stream",
     "text": [
      "{'name': 'Priya', 'age': None, 'email': 'p@test.com', 'state': 'Maharastra', 'city': 'Nashik', 'married': False}\n"
     ]
    }
   ],
   "source": [
    "u4 = user_info(\n",
    "    name = \"Priya\",\n",
    "    email = \"p@test.com\",\n",
    "    state = \"Maharastra\",\n",
    "    city = \"Nashik\",\n",
    "    married = False\n",
    ")\n",
    "print(u4)"
   ]
  },
  {
   "cell_type": "markdown",
   "id": "12570abf",
   "metadata": {},
   "source": [
    "# Perfom restuarant billing\n",
    "menu -> burger, pizza, pasta, coffee, tea"
   ]
  },
  {
   "cell_type": "code",
   "execution_count": 40,
   "id": "7dd3dec5",
   "metadata": {},
   "outputs": [],
   "source": [
    "# Menu prices\n",
    "menu_prices = {\n",
    "    \"burger\": 120,\n",
    "    \"pizza\": 300,\n",
    "    \"pasta\": 250,\n",
    "    \"sandwich\": 100,\n",
    "    \"coffee\": 50,\n",
    "    \"tea\": 30\n",
    "}"
   ]
  },
  {
   "cell_type": "code",
   "execution_count": 41,
   "id": "19888fc9",
   "metadata": {},
   "outputs": [
    {
     "name": "stdout",
     "output_type": "stream",
     "text": [
      "120\n"
     ]
    }
   ],
   "source": [
    "print(menu_prices.get(\"burger\"))"
   ]
  },
  {
   "cell_type": "code",
   "execution_count": 42,
   "id": "d38254fb",
   "metadata": {},
   "outputs": [
    {
     "name": "stdout",
     "output_type": "stream",
     "text": [
      "None\n"
     ]
    }
   ],
   "source": [
    "print(menu_prices.get(\"samosa\"))"
   ]
  },
  {
   "cell_type": "code",
   "execution_count": 55,
   "id": "0b89530d",
   "metadata": {},
   "outputs": [
    {
     "data": {
      "text/plain": [
       "dict"
      ]
     },
     "execution_count": 55,
     "metadata": {},
     "output_type": "execute_result"
    }
   ],
   "source": [
    "type(menu_prices)"
   ]
  },
  {
   "cell_type": "code",
   "execution_count": 56,
   "id": "fd021849",
   "metadata": {},
   "outputs": [
    {
     "data": {
      "text/plain": [
       "dict_items([('burger', 120), ('pizza', 300), ('pasta', 250), ('sandwich', 100), ('coffee', 50), ('tea', 30)])"
      ]
     },
     "execution_count": 56,
     "metadata": {},
     "output_type": "execute_result"
    }
   ],
   "source": [
    "menu_prices.items()"
   ]
  },
  {
   "cell_type": "code",
   "execution_count": 48,
   "id": "62f2cb29",
   "metadata": {},
   "outputs": [],
   "source": [
    "# kwargs burger=2, menu, qty \n",
    "def billing(**kwargs):\n",
    "    # Intialize total bill to 0\n",
    "    total_bill = 0\n",
    "    # Apply for loop on kwargs\n",
    "    for food, qty in kwargs.items():\n",
    "        price = menu_prices.get(food)\n",
    "        if price is not None:\n",
    "            line_total = price * qty \n",
    "            print(f\"Food Item : {food}, Quantity : {qty}, Price : {price}, line total : {line_total}\")\n",
    "            total_bill = total_bill + line_total\n",
    "        else:\n",
    "            print(f\"Food item : {food} not available in menu\")\n",
    "    \n",
    "    # Print the final bill\n",
    "    print(f\"Total bill : {total_bill:.2f} INR\")\n",
    "    # Return the total bill\n",
    "    return total_bill"
   ]
  },
  {
   "cell_type": "code",
   "execution_count": 49,
   "id": "d1ba6b09",
   "metadata": {},
   "outputs": [
    {
     "data": {
      "text/plain": [
       "{'burger': 120,\n",
       " 'pizza': 300,\n",
       " 'pasta': 250,\n",
       " 'sandwich': 100,\n",
       " 'coffee': 50,\n",
       " 'tea': 30}"
      ]
     },
     "execution_count": 49,
     "metadata": {},
     "output_type": "execute_result"
    }
   ],
   "source": [
    "menu_prices"
   ]
  },
  {
   "cell_type": "code",
   "execution_count": 50,
   "id": "b2a93f2c",
   "metadata": {},
   "outputs": [
    {
     "name": "stdout",
     "output_type": "stream",
     "text": [
      "Food Item : burger, Quantity : 2, Price : 120, line total : 240\n",
      "Food Item : pasta, Quantity : 1, Price : 250, line total : 250\n",
      "Food Item : sandwich, Quantity : 1, Price : 100, line total : 100\n",
      "Food Item : coffee, Quantity : 4, Price : 50, line total : 200\n",
      "Total bill : 790.00 INR\n"
     ]
    }
   ],
   "source": [
    "b1 = billing(burger=2, pasta=1, sandwich=1, coffee=4)"
   ]
  },
  {
   "cell_type": "code",
   "execution_count": 51,
   "id": "56c53912",
   "metadata": {},
   "outputs": [
    {
     "data": {
      "text/plain": [
       "790"
      ]
     },
     "execution_count": 51,
     "metadata": {},
     "output_type": "execute_result"
    }
   ],
   "source": [
    "b1"
   ]
  },
  {
   "cell_type": "code",
   "execution_count": 52,
   "id": "aec2052d",
   "metadata": {},
   "outputs": [
    {
     "name": "stdout",
     "output_type": "stream",
     "text": [
      "Food Item : pizza, Quantity : 2, Price : 300, line total : 600\n",
      "Food Item : tea, Quantity : 1, Price : 30, line total : 30\n",
      "Food Item : coffee, Quantity : 1, Price : 50, line total : 50\n",
      "Total bill : 680.00 INR\n"
     ]
    }
   ],
   "source": [
    "b2 = billing(pizza=2, tea=1, coffee=1)"
   ]
  },
  {
   "cell_type": "code",
   "execution_count": 53,
   "id": "1eac03e4",
   "metadata": {},
   "outputs": [
    {
     "name": "stdout",
     "output_type": "stream",
     "text": [
      "Food Item : pasta, Quantity : 1, Price : 250, line total : 250\n",
      "Total bill : 250.00 INR\n"
     ]
    }
   ],
   "source": [
    "b3 = billing(pasta=1)"
   ]
  },
  {
   "cell_type": "code",
   "execution_count": 54,
   "id": "f50fdc3b",
   "metadata": {},
   "outputs": [
    {
     "name": "stdout",
     "output_type": "stream",
     "text": [
      "Food Item : pasta, Quantity : 2, Price : 250, line total : 500\n",
      "Food Item : pizza, Quantity : 1, Price : 300, line total : 300\n",
      "Food item : samosa not available in menu\n",
      "Food Item : coffee, Quantity : 3, Price : 50, line total : 150\n",
      "Total bill : 950.00 INR\n"
     ]
    }
   ],
   "source": [
    "b4 = billing(pasta=2, pizza=1, samosa=1, coffee=3)"
   ]
  },
  {
   "cell_type": "markdown",
   "id": "36675684",
   "metadata": {},
   "source": [
    "# You can combine both postional and kwargs\n",
    "1. postional args are always first\n",
    "2. keyword args are last"
   ]
  },
  {
   "cell_type": "code",
   "execution_count": 57,
   "id": "06919cf3",
   "metadata": {},
   "outputs": [],
   "source": [
    "def func3(*args, **kwargs):\n",
    "    print(f\"Args : {args}, Type : {type(args)}\")\n",
    "    for i in args:\n",
    "        print(i)\n",
    "    print(f\"Kwargs : {kwargs}, Type : {type(kwargs)}\")\n",
    "    for key, value in kwargs.items():\n",
    "        print(key, value)"
   ]
  },
  {
   "cell_type": "code",
   "execution_count": 58,
   "id": "ac69907c",
   "metadata": {},
   "outputs": [
    {
     "name": "stdout",
     "output_type": "stream",
     "text": [
      "Args : (3, 4, 5, 6), Type : <class 'tuple'>\n",
      "3\n",
      "4\n",
      "5\n",
      "6\n",
      "Kwargs : {}, Type : <class 'dict'>\n"
     ]
    }
   ],
   "source": [
    "func3(3, 4, 5, 6)"
   ]
  },
  {
   "cell_type": "code",
   "execution_count": 59,
   "id": "e407ddbe",
   "metadata": {},
   "outputs": [
    {
     "name": "stdout",
     "output_type": "stream",
     "text": [
      "Args : (), Type : <class 'tuple'>\n",
      "Kwargs : {'a': 'Example', 'b': 23, 'c': 45.1, 'd': 0}, Type : <class 'dict'>\n",
      "a Example\n",
      "b 23\n",
      "c 45.1\n",
      "d 0\n"
     ]
    }
   ],
   "source": [
    "func3(a=\"Example\", b=23, c=45.1, d=0)"
   ]
  },
  {
   "cell_type": "code",
   "execution_count": 61,
   "id": "63783d21",
   "metadata": {},
   "outputs": [
    {
     "name": "stdout",
     "output_type": "stream",
     "text": [
      "Args : (3, 4, 5, 6), Type : <class 'tuple'>\n",
      "3\n",
      "4\n",
      "5\n",
      "6\n",
      "Kwargs : {'name': 'Rahul', 'age': 23, 'married': True}, Type : <class 'dict'>\n",
      "name Rahul\n",
      "age 23\n",
      "married True\n"
     ]
    }
   ],
   "source": [
    "func3(3, 4, 5, 6, name=\"Rahul\", age=23, married=True)"
   ]
  },
  {
   "cell_type": "code",
   "execution_count": null,
   "id": "0c1af9b5",
   "metadata": {},
   "outputs": [],
   "source": []
  }
 ],
 "metadata": {
  "kernelspec": {
   "display_name": "Adv-python-4th-Oct",
   "language": "python",
   "name": "python3"
  },
  "language_info": {
   "codemirror_mode": {
    "name": "ipython",
    "version": 3
   },
   "file_extension": ".py",
   "mimetype": "text/x-python",
   "name": "python",
   "nbconvert_exporter": "python",
   "pygments_lexer": "ipython3",
   "version": "3.13.5"
  }
 },
 "nbformat": 4,
 "nbformat_minor": 5
}
